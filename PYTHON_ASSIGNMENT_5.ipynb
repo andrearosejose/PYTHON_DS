{
 "cells": [
  {
   "cell_type": "markdown",
   "id": "933bc881",
   "metadata": {},
   "source": [
    "1. Write a function to check whether a number is an Armstrong number.\n"
   ]
  },
  {
   "cell_type": "code",
   "execution_count": null,
   "id": "cfe7401f",
   "metadata": {},
   "outputs": [],
   "source": []
  },
  {
   "cell_type": "markdown",
   "id": "88b6815e",
   "metadata": {},
   "source": [
    "2. Write a function to count how many times a character appears in a string\n",
    "\n"
   ]
  },
  {
   "cell_type": "code",
   "execution_count": null,
   "id": "727f1578",
   "metadata": {},
   "outputs": [],
   "source": []
  },
  {
   "cell_type": "markdown",
   "id": "0f9c3f20",
   "metadata": {},
   "source": [
    "3. Write a function to find all prime numbers between two given numbers.\n",
    "\n",
    "\n"
   ]
  },
  {
   "cell_type": "code",
   "execution_count": null,
   "id": "30a50d67",
   "metadata": {},
   "outputs": [],
   "source": []
  },
  {
   "cell_type": "markdown",
   "id": "abede2d6",
   "metadata": {},
   "source": [
    "4. Write a function that returns the GCD (Greatest Common Divisor) of two numbers.\n",
    "\n"
   ]
  },
  {
   "cell_type": "code",
   "execution_count": null,
   "id": "747120cc",
   "metadata": {},
   "outputs": [],
   "source": []
  },
  {
   "cell_type": "markdown",
   "id": "d21cc3c3",
   "metadata": {},
   "source": [
    "5. Write a function that returns the LCM (Least Common Multiple) of two numbers.\n",
    "\n"
   ]
  },
  {
   "cell_type": "code",
   "execution_count": null,
   "id": "ea964882",
   "metadata": {},
   "outputs": [],
   "source": []
  },
  {
   "cell_type": "markdown",
   "id": "3ca066ce",
   "metadata": {},
   "source": [
    "6. Write a function that returns the binary representation of a number.\n",
    "\n",
    "\n"
   ]
  },
  {
   "cell_type": "code",
   "execution_count": null,
   "id": "069af5db",
   "metadata": {},
   "outputs": [],
   "source": []
  },
  {
   "cell_type": "markdown",
   "id": "d1b51851",
   "metadata": {},
   "source": [
    "7. Write a function to print a pattern like a triangle or pyramid of stars (*).Write a function that returns all substrings of a given string.\n",
    "\n"
   ]
  },
  {
   "cell_type": "code",
   "execution_count": null,
   "id": "82ed4291",
   "metadata": {},
   "outputs": [],
   "source": []
  },
  {
   "cell_type": "markdown",
   "id": "e83fbd10",
   "metadata": {},
   "source": [
    "8. Write a function to find if a number is a perfect number (sum of factors equals the number).\n",
    "\n"
   ]
  },
  {
   "cell_type": "code",
   "execution_count": null,
   "id": "fc8f742e",
   "metadata": {},
   "outputs": [],
   "source": []
  },
  {
   "cell_type": "markdown",
   "id": "beeb8a8f",
   "metadata": {},
   "source": [
    "9. Write a function to print the frequency of each digit in a number.\n",
    "\n"
   ]
  },
  {
   "cell_type": "code",
   "execution_count": null,
   "id": "fb6308a3",
   "metadata": {},
   "outputs": [],
   "source": []
  },
  {
   "cell_type": "markdown",
   "id": "8fda147a",
   "metadata": {},
   "source": [
    "10. Write a function that reverses the words in a sentence.\n",
    "\n"
   ]
  },
  {
   "cell_type": "code",
   "execution_count": null,
   "id": "72a77043",
   "metadata": {},
   "outputs": [],
   "source": []
  },
  {
   "cell_type": "markdown",
   "id": "13f52705",
   "metadata": {},
   "source": [
    "11. Write a function that finds the second largest number in a list."
   ]
  },
  {
   "cell_type": "code",
   "execution_count": null,
   "id": "a279aadd",
   "metadata": {},
   "outputs": [],
   "source": []
  }
 ],
 "metadata": {
  "language_info": {
   "name": "python"
  }
 },
 "nbformat": 4,
 "nbformat_minor": 5
}
