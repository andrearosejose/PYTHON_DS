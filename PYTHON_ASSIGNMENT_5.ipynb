{
 "cells": [
  {
   "cell_type": "markdown",
   "id": "933bc881",
   "metadata": {},
   "source": [
    "1. Write a function to check whether a number is an Armstrong number.\n"
   ]
  },
  {
   "cell_type": "code",
   "execution_count": 2,
   "id": "cfe7401f",
   "metadata": {},
   "outputs": [
    {
     "name": "stdout",
     "output_type": "stream",
     "text": [
      "Amstrong number\n"
     ]
    }
   ],
   "source": [
    "def amstrong(n):\n",
    "    l=len(str(n))\n",
    "    sum=0\n",
    "    if n>0:\n",
    "        for i in str(n):\n",
    "            a=int(i)\n",
    "            b=a**l\n",
    "            sum+=b\n",
    "        if sum==n:\n",
    "            print(\"Amstrong number\")\n",
    "        else:\n",
    "            print(\"not an Amstrong number\")\n",
    "    \n",
    "amstrong(153)\n"
   ]
  },
  {
   "cell_type": "markdown",
   "id": "88b6815e",
   "metadata": {},
   "source": [
    "2. Write a function to count how many times a character appears in a string\n",
    "\n"
   ]
  },
  {
   "cell_type": "code",
   "execution_count": null,
   "id": "727f1578",
   "metadata": {},
   "outputs": [],
   "source": [
    "def count_string(s,c):\n",
    "    count=0\n",
    "    for i in s:\n",
    "        if c==i:\n",
    "            count+=1\n",
    "    \n",
    "    print(f\"character '{c}' appears {count} times in '{s}' this string\")\n",
    "\n",
    "s=input(\"Enter the String:\")\n",
    "c=input(\"Enter the character :\")"
   ]
  },
  {
   "cell_type": "markdown",
   "id": "0f9c3f20",
   "metadata": {},
   "source": [
    "3. Write a function to find all prime numbers between two given numbers.\n",
    "\n",
    "\n"
   ]
  },
  {
   "cell_type": "code",
   "execution_count": 3,
   "id": "30a50d67",
   "metadata": {},
   "outputs": [
    {
     "name": "stdout",
     "output_type": "stream",
     "text": [
      "Prime numbers between 2 and 10 are:\n",
      "2\n",
      "3\n",
      "5\n",
      "7\n"
     ]
    }
   ],
   "source": [
    "def prime_num(n1, n2):\n",
    "    print(f\"Prime numbers between {n1} and {n2} are:\")\n",
    "    for num in range(n1, n2 + 1):\n",
    "        if num > 1:\n",
    "            for i in range(2, int(num**0.5) + 1):\n",
    "                if num % i == 0:\n",
    "                    break\n",
    "            else:\n",
    "                print(num)\n",
    "\n",
    "prime_num(2, 10)"
   ]
  },
  {
   "cell_type": "markdown",
   "id": "abede2d6",
   "metadata": {},
   "source": [
    "4. Write a function that returns the GCD (Greatest Common Divisor) of two numbers.\n",
    "\n"
   ]
  },
  {
   "cell_type": "code",
   "execution_count": 4,
   "id": "747120cc",
   "metadata": {},
   "outputs": [
    {
     "name": "stdout",
     "output_type": "stream",
     "text": [
      "6\n",
      "None\n"
     ]
    }
   ],
   "source": [
    "def gcd(a, b):\n",
    "    gcd_val = 1\n",
    "    for i in range(1, min(a, b) + 1):\n",
    "        if a % i == 0 and b % i == 0:\n",
    "            gcd_val = i\n",
    "    print(gcd_val)\n",
    "\n",
    "print(gcd(48, 18))"
   ]
  },
  {
   "cell_type": "markdown",
   "id": "d21cc3c3",
   "metadata": {},
   "source": [
    "5. Write a function that returns the LCM (Least Common Multiple) of two numbers.\n",
    "\n"
   ]
  },
  {
   "cell_type": "code",
   "execution_count": 5,
   "id": "ea964882",
   "metadata": {},
   "outputs": [
    {
     "name": "stdout",
     "output_type": "stream",
     "text": [
      "36\n"
     ]
    }
   ],
   "source": [
    "def lcm(a, b):\n",
    "    greater = max(a, b)\n",
    "    for i in range(greater, (a * b) + 1):\n",
    "        if i % a == 0 and i % b == 0:\n",
    "            return i\n",
    "\n",
    "print(lcm(12, 18))"
   ]
  },
  {
   "cell_type": "markdown",
   "id": "3ca066ce",
   "metadata": {},
   "source": [
    "6. Write a function that returns the binary representation of a number.\n",
    "\n",
    "\n"
   ]
  },
  {
   "cell_type": "code",
   "execution_count": 6,
   "id": "069af5db",
   "metadata": {},
   "outputs": [
    {
     "name": "stdout",
     "output_type": "stream",
     "text": [
      "0b101\n"
     ]
    }
   ],
   "source": [
    "def binary(n):\n",
    "    print(bin(n))\n",
    "\n",
    "binary(5)"
   ]
  },
  {
   "cell_type": "markdown",
   "id": "d1b51851",
   "metadata": {},
   "source": [
    "7. Write a function to print a pattern like a triangle or pyramid of stars (*).Write a function that returns all substrings of a given string.\n",
    "\n"
   ]
  },
  {
   "cell_type": "code",
   "execution_count": 10,
   "id": "82ed4291",
   "metadata": {},
   "outputs": [
    {
     "name": "stdout",
     "output_type": "stream",
     "text": [
      "*\n",
      "**\n",
      "***\n",
      "****\n",
      "*****\n"
     ]
    }
   ],
   "source": [
    "def star_pyramid(rows):\n",
    "    for i in range(5):\n",
    "        for j in range(i+1):\n",
    "            print(\"*\", end=\"\")\n",
    "        print()\n",
    "\n",
    "star_pyramid(5)"
   ]
  },
  {
   "cell_type": "markdown",
   "id": "e83fbd10",
   "metadata": {},
   "source": [
    "8. Write a function to find if a number is a perfect number (sum of factors equals the number).\n",
    "\n"
   ]
  },
  {
   "cell_type": "code",
   "execution_count": 11,
   "id": "fc8f742e",
   "metadata": {},
   "outputs": [
    {
     "name": "stdout",
     "output_type": "stream",
     "text": [
      "True\n",
      "True\n",
      "False\n"
     ]
    }
   ],
   "source": [
    "def is_perfect(num):\n",
    "    if num < 2:\n",
    "        return False\n",
    "    sum_of_factors = 0\n",
    "    for i in range(1, num):\n",
    "        if num % i == 0:\n",
    "            sum_of_factors += i\n",
    "    print(sum_of_factors == num)\n",
    "\n",
    "is_perfect(6) \n",
    "is_perfect(28)\n",
    "is_perfect(12)"
   ]
  },
  {
   "cell_type": "markdown",
   "id": "beeb8a8f",
   "metadata": {},
   "source": [
    "9. Write a function to print the frequency of each digit in a number.\n",
    "\n"
   ]
  },
  {
   "cell_type": "code",
   "execution_count": 12,
   "id": "fb6308a3",
   "metadata": {},
   "outputs": [
    {
     "name": "stdout",
     "output_type": "stream",
     "text": [
      "Digit frequencies in 112345551:\n",
      "1 → 3\n",
      "2 → 1\n",
      "3 → 1\n",
      "4 → 1\n",
      "5 → 3\n"
     ]
    }
   ],
   "source": [
    "def digit_frequency(num):\n",
    "    num_str = str(num)\n",
    "    freq = {}\n",
    "\n",
    "    for digit in num_str:\n",
    "        if digit in freq:\n",
    "            freq[digit] += 1\n",
    "        else:\n",
    "            freq[digit] = 1\n",
    "\n",
    "    print(f\"Digit frequencies in {num}:\")\n",
    "    for digit, count in freq.items():\n",
    "        print(f\"{digit} → {count}\")\n",
    "\n",
    "digit_frequency(112345551)"
   ]
  },
  {
   "cell_type": "markdown",
   "id": "8fda147a",
   "metadata": {},
   "source": [
    "10. Write a function that reverses the words in a sentence.\n",
    "\n"
   ]
  },
  {
   "cell_type": "code",
   "execution_count": 13,
   "id": "72a77043",
   "metadata": {},
   "outputs": [
    {
     "name": "stdout",
     "output_type": "stream",
     "text": [
      "World Hello\n"
     ]
    }
   ],
   "source": [
    "def reverse_words(sentence):\n",
    "    words = sentence.split()\n",
    "    reversed_sentence = \" \".join(words[::-1])\n",
    "    print(reversed_sentence)\n",
    "\n",
    "reverse_words(\"Hello World\")"
   ]
  },
  {
   "cell_type": "markdown",
   "id": "13f52705",
   "metadata": {},
   "source": [
    "11. Write a function that finds the second largest number in a list."
   ]
  },
  {
   "cell_type": "code",
   "execution_count": 14,
   "id": "a279aadd",
   "metadata": {},
   "outputs": [
    {
     "name": "stdout",
     "output_type": "stream",
     "text": [
      "45\n"
     ]
    }
   ],
   "source": [
    "def second_largest(lst):\n",
    "    s = list(set(lst))\n",
    "    if len(s) < 2:\n",
    "        print(None)\n",
    "    else:\n",
    "        s.sort(reverse=True)\n",
    "        print(s[1])\n",
    "\n",
    "second_largest([10, 20, 4, 45, 99])"
   ]
  }
 ],
 "metadata": {
  "kernelspec": {
   "display_name": "Python 3",
   "language": "python",
   "name": "python3"
  },
  "language_info": {
   "codemirror_mode": {
    "name": "ipython",
    "version": 3
   },
   "file_extension": ".py",
   "mimetype": "text/x-python",
   "name": "python",
   "nbconvert_exporter": "python",
   "pygments_lexer": "ipython3",
   "version": "3.11.9"
  }
 },
 "nbformat": 4,
 "nbformat_minor": 5
}
