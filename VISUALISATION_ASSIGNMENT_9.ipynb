{
 "cells": [
  {
   "cell_type": "code",
   "execution_count": 2,
   "id": "579a6d26",
   "metadata": {},
   "outputs": [],
   "source": [
    "import pandas as pd\n",
    "import numpy as np\n",
    "import matplotlib.pyplot as plt\n",
    "import seaborn as sns"
   ]
  },
  {
   "cell_type": "code",
   "execution_count": 3,
   "id": "3b3fe6ea",
   "metadata": {},
   "outputs": [],
   "source": [
    "df=pd.read_csv('bigmart_data.csv')"
   ]
  },
  {
   "cell_type": "markdown",
   "id": "7db6cef0",
   "metadata": {},
   "source": [
    "1. create a line chart to denote the mean price per item.  (plot for top 10 items)\n",
    "\n"
   ]
  },
  {
   "cell_type": "code",
   "execution_count": null,
   "id": "3879c42b",
   "metadata": {},
   "outputs": [],
   "source": []
  },
  {
   "cell_type": "markdown",
   "id": "84322071",
   "metadata": {},
   "source": [
    "2. What is the mean sales for each outlet type? (both bar chart, pie chart )\n"
   ]
  },
  {
   "cell_type": "code",
   "execution_count": null,
   "id": "18916305",
   "metadata": {},
   "outputs": [],
   "source": []
  },
  {
   "cell_type": "markdown",
   "id": "74fea270",
   "metadata": {},
   "source": [
    "3. Histogram of Item_MRP\n"
   ]
  },
  {
   "cell_type": "code",
   "execution_count": null,
   "id": "c9385727",
   "metadata": {},
   "outputs": [],
   "source": []
  },
  {
   "cell_type": "markdown",
   "id": "4aa29b2f",
   "metadata": {},
   "source": [
    "4. Box plot of item weight\n"
   ]
  },
  {
   "cell_type": "code",
   "execution_count": null,
   "id": "204352f4",
   "metadata": {},
   "outputs": [],
   "source": []
  },
  {
   "cell_type": "markdown",
   "id": "6d508a6f",
   "metadata": {},
   "source": [
    "5. Relative distribution of item weight and its visibility(scatter plot)\n"
   ]
  },
  {
   "cell_type": "code",
   "execution_count": null,
   "id": "849f9a5e",
   "metadata": {},
   "outputs": [],
   "source": []
  },
  {
   "cell_type": "markdown",
   "id": "4fe86de9",
   "metadata": {},
   "source": [
    "6. Violin plot for Item_Outlet_Sales\n"
   ]
  },
  {
   "cell_type": "code",
   "execution_count": null,
   "id": "09c6af17",
   "metadata": {},
   "outputs": [],
   "source": []
  },
  {
   "cell_type": "markdown",
   "id": "043c0046",
   "metadata": {},
   "source": [
    "7. Scatter plot using seaborn and add hue\n"
   ]
  },
  {
   "cell_type": "code",
   "execution_count": null,
   "id": "3286a409",
   "metadata": {},
   "outputs": [],
   "source": []
  },
  {
   "cell_type": "markdown",
   "id": "2aa2c315",
   "metadata": {},
   "source": [
    "8. Heat map for selected numeric columns"
   ]
  },
  {
   "cell_type": "code",
   "execution_count": null,
   "id": "607d958f",
   "metadata": {},
   "outputs": [],
   "source": []
  }
 ],
 "metadata": {
  "kernelspec": {
   "display_name": "Python 3",
   "language": "python",
   "name": "python3"
  },
  "language_info": {
   "codemirror_mode": {
    "name": "ipython",
    "version": 3
   },
   "file_extension": ".py",
   "mimetype": "text/x-python",
   "name": "python",
   "nbconvert_exporter": "python",
   "pygments_lexer": "ipython3",
   "version": "3.11.9"
  }
 },
 "nbformat": 4,
 "nbformat_minor": 5
}
