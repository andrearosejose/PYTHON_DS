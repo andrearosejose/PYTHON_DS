{
 "cells": [
  {
   "cell_type": "code",
   "execution_count": null,
   "id": "b4844433",
   "metadata": {},
   "outputs": [
    {
     "name": "stdout",
     "output_type": "stream",
     "text": [
      "The rectangle is a square\n"
     ]
    }
   ],
   "source": [
    "#[1]Take values of length and breadth of a rectangle from user and check if it is square or not.\n",
    "l=int(input(\"enter the length\"))\n",
    "b=int(input(\"enter the breadth\"))\n",
    "if l==b:\n",
    "    print(\"The rectangle is a square\")\n",
    "else:\n",
    "    print(\"The rectangle is not a square\")\n",
    "\n"
   ]
  },
  {
   "cell_type": "code",
   "execution_count": null,
   "id": "5a65cc70",
   "metadata": {},
   "outputs": [
    {
     "name": "stdout",
     "output_type": "stream",
     "text": [
      "net bonus amount 500.0\n"
     ]
    }
   ],
   "source": [
    "#[2]A company decided to give bonus of 5% to employee if his/her year of service is more than 5 years.Ask user for their salary and year of service and print the net bonus amount.\n",
    "s=int(input(\"enter the salary\"))\n",
    "y=int(input(\"enter the year\"))\n",
    "if y>5:\n",
    "    a=s*0.05\n",
    "    print(\"net bonus amount\",a)"
   ]
  },
  {
   "cell_type": "code",
   "execution_count": null,
   "id": "1b4cdc19",
   "metadata": {},
   "outputs": [
    {
     "name": "stdout",
     "output_type": "stream",
     "text": [
      "the number is odd\n"
     ]
    }
   ],
   "source": [
    "#[3]Take a user input and check if it is even or not\n",
    "a=int(input(\"enter the nymber to check\"))\n",
    "if a%2==0:\n",
    "   print(\"the number is even\")\n",
    "else:\n",
    "   print(\"the number is odd\")"
   ]
  },
  {
   "cell_type": "code",
   "execution_count": null,
   "id": "dc97d311",
   "metadata": {},
   "outputs": [
    {
     "name": "stdout",
     "output_type": "stream",
     "text": [
      "6 is equal to 6\n"
     ]
    }
   ],
   "source": [
    "#[4]Take two int values from user and print greatest among them.(use if elif else)\n",
    "u=int(input())\n",
    "v=int(input())\n",
    "if u>v:\n",
    "    print(u,\"is greatest than\",v)\n",
    "elif v>u:\n",
    "    print(v,\"is greatest than\",u)\n",
    "else:\n",
    "    print(u,\"is equal to\",v)"
   ]
  },
  {
   "cell_type": "code",
   "execution_count": null,
   "id": "799fe45a",
   "metadata": {},
   "outputs": [
    {
     "name": "stdout",
     "output_type": "stream",
     "text": [
      "GRADE F\n"
     ]
    }
   ],
   "source": [
    "#[5]Example A school has following rules for grading system:\n",
    "# a. Below 25 - F\n",
    "# b. 25 to 45 - E\n",
    "# c. 45 to 50 - D\n",
    "# d. 50 to 60 - C\n",
    "# e. 60 to 80 - B\n",
    "# f. Above 80 - A\n",
    "# Ask user to enter marks and print the corresponding grade.\n",
    "m=int(input(\"enter the number\"))\n",
    "if m>80:\n",
    "    print(\"GRADE A\")\n",
    "elif m>60:\n",
    "    print(\"GRADE B\")\n",
    "elif m>50:\n",
    "    print(\"GRADE C\")\n",
    "elif m>45:\n",
    "    print(\"GRADE D\")\n",
    "elif m>25:\n",
    "    print(\"GRADE E\")\n",
    "else:\n",
    "    print(\"GRADE F\")"
   ]
  },
  {
   "cell_type": "code",
   "execution_count": null,
   "id": "62a741a9",
   "metadata": {},
   "outputs": [
    {
     "name": "stdout",
     "output_type": "stream",
     "text": [
      "50 is oldest\n"
     ]
    }
   ],
   "source": [
    "#[6]Take input fro user of ages of 3 people and check who is oldest\n",
    "p1=int(input(\"enter the age of person1\"))\n",
    "p2=int(input(\"enter the age of person2\"))\n",
    "p3=int(input(\"enter the age of person3\"))\n",
    "if p1>p2 and p1>p3:\n",
    "    print(p1,\"is oldest\")\n",
    "elif p2>p1 and p2>p3:\n",
    "    print(p2,\"is oldest\")\n",
    "else:\n",
    "    print(p3,\"is oldest\")"
   ]
  },
  {
   "cell_type": "code",
   "execution_count": null,
   "id": "35d8f561",
   "metadata": {},
   "outputs": [
    {
     "name": "stdout",
     "output_type": "stream",
     "text": [
      "90.0 % is class attended\n",
      "student is allowed to sit in exam\n"
     ]
    }
   ],
   "source": [
    "#[7]A student will not be allowed to sit in exam if his/her attendence is less than 75%.\n",
    "# Take following input from user\n",
    "# Number of classes held\n",
    "# Number of classes attended.\n",
    "# And print percentage of class attended\n",
    "# Is student is allowed to sit in exam or not.\n",
    "h=int(input(\"enter the number of class held\"))\n",
    "a=int(input(\"enter the number of class attended\"))\n",
    "p=(a/h)*100\n",
    "print(p,\"% is class attended\")\n",
    "if p>75:\n",
    "    print(\"student is allowed to sit in exam\")\n",
    "else:\n",
    "    print(\"student is not allowed to sit in exam\")\n"
   ]
  }
 ],
 "metadata": {
  "kernelspec": {
   "display_name": "Python 3",
   "language": "python",
   "name": "python3"
  },
  "language_info": {
   "codemirror_mode": {
    "name": "ipython",
    "version": 3
   },
   "file_extension": ".py",
   "mimetype": "text/x-python",
   "name": "python",
   "nbconvert_exporter": "python",
   "pygments_lexer": "ipython3",
   "version": "3.11.9"
  }
 },
 "nbformat": 4,
 "nbformat_minor": 5
}
