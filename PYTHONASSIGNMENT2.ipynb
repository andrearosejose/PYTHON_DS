{
 "cells": [
  {
   "cell_type": "markdown",
   "id": "51fe5c43",
   "metadata": {},
   "source": [
    "1.Find Even Number In Python Using For Loop"
   ]
  },
  {
   "cell_type": "code",
   "execution_count": 1,
   "id": "d7b79756",
   "metadata": {},
   "outputs": [
    {
     "name": "stdout",
     "output_type": "stream",
     "text": [
      "2\n",
      "4\n",
      "6\n"
     ]
    }
   ],
   "source": [
    "n=int(input(\"Enter a number: \"))\n",
    "for i in range(1,n+1):\n",
    "    if i%2==0:\n",
    "        print(i)    "
   ]
  },
  {
   "cell_type": "markdown",
   "id": "5374ec55",
   "metadata": {},
   "source": [
    "2.Sum of First N Natural Numbers"
   ]
  },
  {
   "cell_type": "code",
   "execution_count": 8,
   "id": "a372eb03",
   "metadata": {},
   "outputs": [
    {
     "name": "stdout",
     "output_type": "stream",
     "text": [
      "10\n"
     ]
    }
   ],
   "source": [
    "n=int(input(\"Enter a number: \"))\n",
    "sum=0\n",
    "for i in range(1,n+1):\n",
    "    if n>0 and n==int(n):\n",
    "      sum+=i\n",
    "print(sum)\n",
    "    \n"
   ]
  },
  {
   "cell_type": "markdown",
   "id": "f369cbb0",
   "metadata": {},
   "source": [
    "3.Print Each Character in a String"
   ]
  },
  {
   "cell_type": "code",
   "execution_count": 11,
   "id": "5429075f",
   "metadata": {},
   "outputs": [
    {
     "name": "stdout",
     "output_type": "stream",
     "text": [
      "a\n",
      "n\n",
      "d\n",
      "r\n",
      "e\n",
      "a\n"
     ]
    }
   ],
   "source": [
    "us = input(\"Please enter a string: \")\n",
    "for i in us:\n",
    "    print(i)    "
   ]
  },
  {
   "cell_type": "markdown",
   "id": "0cff03af",
   "metadata": {},
   "source": [
    "4.Print multiplication table using for loop"
   ]
  },
  {
   "cell_type": "code",
   "execution_count": 15,
   "id": "12f204f7",
   "metadata": {},
   "outputs": [
    {
     "name": "stdout",
     "output_type": "stream",
     "text": [
      "7 X 1 = 7\n",
      "7 X 2 = 14\n",
      "7 X 3 = 21\n",
      "7 X 4 = 28\n",
      "7 X 5 = 35\n",
      "7 X 6 = 42\n",
      "7 X 7 = 49\n",
      "7 X 8 = 56\n",
      "7 X 9 = 63\n",
      "7 X 10 = 70\n"
     ]
    }
   ],
   "source": [
    "n=int(input(\"Enter a number: \"))\n",
    "for i in range(1,11):\n",
    "    mul=i*n\n",
    "    print(n,\"X\",i,\"=\",mul)"
   ]
  },
  {
   "cell_type": "markdown",
   "id": "34847174",
   "metadata": {},
   "source": [
    "Print multiplication table using While loop"
   ]
  },
  {
   "cell_type": "code",
   "execution_count": 16,
   "id": "617a43ba",
   "metadata": {},
   "outputs": [
    {
     "name": "stdout",
     "output_type": "stream",
     "text": [
      "8 X 1 = 8\n",
      "8 X 2 = 16\n",
      "8 X 3 = 24\n",
      "8 X 4 = 32\n",
      "8 X 5 = 40\n",
      "8 X 6 = 48\n",
      "8 X 7 = 56\n",
      "8 X 8 = 64\n",
      "8 X 9 = 72\n",
      "8 X 10 = 80\n"
     ]
    }
   ],
   "source": [
    "n=int(input(\"Enter a number: \"))\n",
    "i=1\n",
    "while i<=10:\n",
    "    mul=i*n\n",
    "    print(n,\"X\",i,\"=\",mul)\n",
    "    i+=1"
   ]
  },
  {
   "cell_type": "markdown",
   "id": "91ecc660",
   "metadata": {},
   "source": [
    "5.Write program to print any two * patterns"
   ]
  },
  {
   "cell_type": "code",
   "execution_count": 35,
   "id": "70674d05",
   "metadata": {},
   "outputs": [
    {
     "name": "stdout",
     "output_type": "stream",
     "text": [
      "*\n",
      "**\n",
      "***\n",
      "\n",
      "***\n",
      "**\n",
      "*\n"
     ]
    }
   ],
   "source": [
    "n=int(input(\"enter the limit\"))\n",
    "for i in range(1, n+1):\n",
    "    print('*' * i)\n",
    "\n",
    "print() \n",
    "\n",
    "for i in range(n, 0, -1):\n",
    "    print('*' * i)"
   ]
  },
  {
   "cell_type": "markdown",
   "id": "0047341b",
   "metadata": {},
   "source": [
    "6.check prime or not"
   ]
  },
  {
   "cell_type": "code",
   "execution_count": 12,
   "id": "d53ad0fc",
   "metadata": {},
   "outputs": [
    {
     "name": "stdout",
     "output_type": "stream",
     "text": [
      "2 is a prime number\n"
     ]
    }
   ],
   "source": [
    "n=int(input(\"Enter a number: \"))\n",
    "if n>1:\n",
    "    for i in range(1,n):\n",
    "        if n%i==0 and i!=1:\n",
    "            print(n,\"is not a prime number\")\n",
    "            break\n",
    "        else:\n",
    "            print(n,\"is a prime number\")"
   ]
  },
  {
   "cell_type": "markdown",
   "id": "70d2160e",
   "metadata": {},
   "source": [
    "7. Python program to find the factorial of a number provided by the user.\n",
    "\n",
    "\n"
   ]
  },
  {
   "cell_type": "code",
   "execution_count": 3,
   "id": "fd1b7ba2",
   "metadata": {},
   "outputs": [
    {
     "name": "stdout",
     "output_type": "stream",
     "text": [
      "2\n"
     ]
    }
   ],
   "source": [
    "n=int(input(\"Enter a number: \"))\n",
    "f=1\n",
    "for i in range(1,n+1):\n",
    "    f=f*i\n",
    "print(f)"
   ]
  },
  {
   "cell_type": "markdown",
   "id": "b7991eae",
   "metadata": {},
   "source": [
    "8. We will the input() function to ask the user to enter an integer and that integer will only be appended to list if it's even.\n",
    "\n",
    "\n"
   ]
  },
  {
   "cell_type": "code",
   "execution_count": 8,
   "id": "9386a974",
   "metadata": {},
   "outputs": [
    {
     "name": "stdout",
     "output_type": "stream",
     "text": [
      "['andrea', 22]\n"
     ]
    }
   ],
   "source": [
    "n=int(input(\"Enter a number: \"))\n",
    "b=[\"andrea\"]\n",
    "if n%2==0:\n",
    "    b.append(n)\n",
    "print(b)"
   ]
  },
  {
   "cell_type": "markdown",
   "id": "6ef44c60",
   "metadata": {},
   "source": [
    "9. Print first 10 terms in fibonacci series"
   ]
  },
  {
   "cell_type": "code",
   "execution_count": 16,
   "id": "ddc7a235",
   "metadata": {},
   "outputs": [
    {
     "name": "stdout",
     "output_type": "stream",
     "text": [
      "0\n",
      "1\n",
      "1\n",
      "2\n",
      "3\n",
      "5\n",
      "8\n",
      "13\n",
      "21\n",
      "34\n"
     ]
    }
   ],
   "source": [
    "a=0\n",
    "b=1\n",
    "for i in range(10):\n",
    "    print(a)\n",
    "    c=a+b\n",
    "    a=b\n",
    "    b=c"
   ]
  },
  {
   "cell_type": "code",
   "execution_count": null,
   "id": "3024f5a5",
   "metadata": {},
   "outputs": [
    {
     "name": "stdout",
     "output_type": "stream",
     "text": [
      "0\n",
      "0\n",
      "1\n",
      "1\n",
      "2\n",
      "3\n",
      "5\n",
      "8\n",
      "13\n",
      "21\n",
      "34\n"
     ]
    }
   ],
   "source": [
    "\n",
    "   \n",
    "    "
   ]
  },
  {
   "cell_type": "code",
   "execution_count": null,
   "id": "c9c880d3",
   "metadata": {},
   "outputs": [],
   "source": []
  }
 ],
 "metadata": {
  "kernelspec": {
   "display_name": "Python 3",
   "language": "python",
   "name": "python3"
  },
  "language_info": {
   "codemirror_mode": {
    "name": "ipython",
    "version": 3
   },
   "file_extension": ".py",
   "mimetype": "text/x-python",
   "name": "python",
   "nbconvert_exporter": "python",
   "pygments_lexer": "ipython3",
   "version": "3.11.9"
  }
 },
 "nbformat": 4,
 "nbformat_minor": 5
}
