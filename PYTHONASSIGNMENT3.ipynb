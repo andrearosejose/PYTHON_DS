{
 "cells": [
  {
   "cell_type": "markdown",
   "id": "0d52147c",
   "metadata": {},
   "source": [
    "1.Write the program to find the lists consist of at least one common element."
   ]
  },
  {
   "cell_type": "code",
   "execution_count": 8,
   "id": "a4cacdc6",
   "metadata": {},
   "outputs": [
    {
     "name": "stdout",
     "output_type": "stream",
     "text": [
      "[2, 5]\n"
     ]
    }
   ],
   "source": [
    "a=[1,2,3,4,5]\n",
    "b=[6,5,7,8,2]\n",
    "comm = set(a) & set(b)\n",
    "\n",
    "print(list(comm))"
   ]
  },
  {
   "cell_type": "markdown",
   "id": "c1e32e13",
   "metadata": {},
   "source": [
    "2.Write a program that takes a list of integers and returns a new list with all even numbers removed."
   ]
  },
  {
   "cell_type": "code",
   "execution_count": 10,
   "id": "7f1f85c8",
   "metadata": {},
   "outputs": [
    {
     "name": "stdout",
     "output_type": "stream",
     "text": [
      "2\n",
      "4\n",
      "6\n",
      "8\n",
      "10\n"
     ]
    }
   ],
   "source": [
    "a=[1,2,3,4,5,6,7,8,9,10]\n",
    "for i in range(len(a)):\n",
    "    if a[i] % 2==0:\n",
    "        print(a[i])\n",
    "\n",
    "\n"
   ]
  },
  {
   "cell_type": "markdown",
   "id": "05d3507b",
   "metadata": {},
   "source": [
    "3.Given a list of strings, return a new list with only those strings that have more than 3 characters.\n"
   ]
  },
  {
   "cell_type": "code",
   "execution_count": 17,
   "id": "cd1f8464",
   "metadata": {},
   "outputs": [
    {
     "name": "stdout",
     "output_type": "stream",
     "text": [
      "andrea\n",
      "aswath\n",
      "nezwin\n"
     ]
    }
   ],
   "source": [
    "r=[\"andrea\",\"aswath\",\"fix\",\"man\",\"nezwin\",\"cat\"]\n",
    "for i in r:\n",
    "    if len(i)>3:\n",
    "        print(i)"
   ]
  },
  {
   "cell_type": "markdown",
   "id": "2e4c2379",
   "metadata": {},
   "source": [
    "4.Write a function that replaces all negative numbers in a list with zero using a for loop and if condition.\n"
   ]
  },
  {
   "cell_type": "code",
   "execution_count": 19,
   "id": "bec306ab",
   "metadata": {},
   "outputs": [
    {
     "name": "stdout",
     "output_type": "stream",
     "text": [
      "[1, 2, 3, 4, 5, 0, 0, 0, 0, 0]\n"
     ]
    }
   ],
   "source": [
    "a=[1,2,3,4,5,-1,-2,-3,-4,-5]\n",
    "for i in range(len(a)):\n",
    "    if a[i]<0:\n",
    "        a[i]=0\n",
    "print(a)"
   ]
  },
  {
   "cell_type": "markdown",
   "id": "69f622eb",
   "metadata": {},
   "source": [
    "5.Create a list of squares of all odd numbers from a given list."
   ]
  },
  {
   "cell_type": "code",
   "execution_count": 26,
   "id": "d99b3d42",
   "metadata": {},
   "outputs": [
    {
     "name": "stdout",
     "output_type": "stream",
     "text": [
      "[1, 9, 25, 49, 81]\n"
     ]
    }
   ],
   "source": [
    "a=[1,2,3,4,5,6,7,8,9,10]\n",
    "b=[]\n",
    "for i in range(len(a)):\n",
    "    if a[i]%2!=0:\n",
    "        b.append(a[i]**2)\n",
    "print(list(b))"
   ]
  }
 ],
 "metadata": {
  "kernelspec": {
   "display_name": "Python 3",
   "language": "python",
   "name": "python3"
  },
  "language_info": {
   "codemirror_mode": {
    "name": "ipython",
    "version": 3
   },
   "file_extension": ".py",
   "mimetype": "text/x-python",
   "name": "python",
   "nbconvert_exporter": "python",
   "pygments_lexer": "ipython3",
   "version": "3.11.9"
  }
 },
 "nbformat": 4,
 "nbformat_minor": 5
}
