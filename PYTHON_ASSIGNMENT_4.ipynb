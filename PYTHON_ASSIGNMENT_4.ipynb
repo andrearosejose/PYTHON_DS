{
 "cells": [
  {
   "cell_type": "markdown",
   "id": "5e2395f5",
   "metadata": {},
   "source": [
    "1. You are given a list that contains integers. You need to print the elements of the list with a space between them.\n",
    "\n",
    "Input: arr[] = [54, 43, 2, 1, 5]\n",
    "\n",
    "Output: 54 43 2 1 5\n",
    "\n",
    "Explanation: Just traverse and print the numbers.\n",
    "\n"
   ]
  },
  {
   "cell_type": "code",
   "execution_count": 1,
   "id": "8eb5f721",
   "metadata": {},
   "outputs": [
    {
     "name": "stdout",
     "output_type": "stream",
     "text": [
      "54 43 2 1 5\n"
     ]
    }
   ],
   "source": [
    "arr=[54,43,2,1,5]\n",
    "print(*arr)"
   ]
  },
  {
   "cell_type": "code",
   "execution_count": 6,
   "id": "8a64584f",
   "metadata": {},
   "outputs": [
    {
     "name": "stdout",
     "output_type": "stream",
     "text": [
      "54 43 2 1 5 "
     ]
    }
   ],
   "source": [
    "arr=[54,43,2,1,5]\n",
    "for i in range(len(arr)):\n",
    "    print(arr[i],end=\" \")"
   ]
  },
  {
   "cell_type": "markdown",
   "id": "a9d82870",
   "metadata": {},
   "source": [
    "2. You are given a list that contains integers. You need to return the sum of the list.\n",
    "\n",
    "Input: arr = [54, 43, 2, 1, 5]\n",
    "\n",
    "Output: 105\n",
    "\n",
    "Explanation: Just sum it 54 + 43 + 2 + 1 + 5 = 105."
   ]
  },
  {
   "cell_type": "code",
   "execution_count": 29,
   "id": "0ec6d460",
   "metadata": {},
   "outputs": [
    {
     "name": "stdout",
     "output_type": "stream",
     "text": [
      "105\n"
     ]
    }
   ],
   "source": [
    "arr = [54, 43, 2, 1, 5]\n",
    "sum = 0\n",
    "for i in range(len(arr)):\n",
    "    sum += arr[i]\n",
    "print(sum)"
   ]
  },
  {
   "cell_type": "markdown",
   "id": "71ba5375",
   "metadata": {},
   "source": [
    "3. You are given three inputs a, b, c. You need to create a list and append a, b, c to the list and then return that list.\n",
    "\n",
    "Input: a = 1, b = 2, c = 3\n",
    "\n",
    "Output: 1 2 3\n",
    "\n",
    "Explanation: Just create a list and append 1 2 3 to it. Then return [1,2,3] list."
   ]
  },
  {
   "cell_type": "code",
   "execution_count": 36,
   "id": "851483e3",
   "metadata": {},
   "outputs": [
    {
     "name": "stdout",
     "output_type": "stream",
     "text": [
      "[1, 2, 3, 4]\n"
     ]
    }
   ],
   "source": [
    "a=1\n",
    "b=2\n",
    "c=3\n",
    "list=[a,b,c]\n",
    "list.append(4)\n",
    "print(list)"
   ]
  },
  {
   "cell_type": "markdown",
   "id": "e64ed737",
   "metadata": {},
   "source": [
    "4. You are given a list arr that contains integers. You need to return average of the non negative integers.\n",
    "\n",
    "Input: arr = [-12, 8, -7, 6, 12, -9, 14]\n",
    "\n",
    "Output: avg = 10.0\n",
    "\n",
    "Explanation: The non negative numbers are 8 6 12 14. The sum is 8+6+12+14 = 40, Average = 40/4 = 10.0"
   ]
  },
  {
   "cell_type": "code",
   "execution_count": 53,
   "id": "ba0fd369",
   "metadata": {},
   "outputs": [
    {
     "name": "stdout",
     "output_type": "stream",
     "text": [
      "40\n",
      "10.0\n"
     ]
    }
   ],
   "source": [
    "arr = [-12, 8, -7, 6, 12, -9, 14]\n",
    "sum=0\n",
    "count=0\n",
    "for i in range (len(arr)):\n",
    "    if arr[i] > 0:\n",
    "        sum += arr[i]\n",
    "        count += 1\n",
    "        avg=sum/count\n",
    "print(sum)\n",
    "print(avg)"
   ]
  },
  {
   "cell_type": "markdown",
   "id": "57579569",
   "metadata": {},
   "source": [
    "5. Given a number n, check if the number is perfect or not. A number is said to be perfect if sum of all its factors excluding the number itself is equal to the number.\n",
    "\n",
    "Examples :\n",
    "\n",
    "Input: n = 6\n",
    "\n",
    "Output: true \n",
    "\n",
    "Explanation: Factors of 6 are 1, 2, 3 and 6. Excluding 6 their sum is 6 which is equal to n itself. So, it's a Perfect Number.\n",
    "\n",
    "Input: n = 10\n",
    "\n",
    "Output: false\n",
    "\n",
    "Explanation: Factors of 10 are 1, 2, 5 and 10. Excluding 10 their sum is 8 which is not equal to n itself. So, it's not a Perfect Number.\n",
    "\n",
    "Input: n = 15\n",
    "\n",
    "Output: false\n",
    "\n",
    "Explanation: Factors of 15 are 1, 3, 5, 15. Excluding 15 their sum is 9 which is not equal to n itself. So, it's not a Perfect Number."
   ]
  },
  {
   "cell_type": "code",
   "execution_count": 12,
   "id": "83ca0945",
   "metadata": {},
   "outputs": [
    {
     "name": "stdout",
     "output_type": "stream",
     "text": [
      "Perfect number\n"
     ]
    }
   ],
   "source": [
    "n=int(input(\"Enter the number of number: \"))\n",
    "sum=0\n",
    "for i in range(1,n):\n",
    "    if n%i==0:\n",
    "        sum+=i\n",
    "if sum==n:\n",
    "    print(\"Perfect number\")\n",
    "else:\n",
    "    print(\"Not a perfect number\")"
   ]
  },
  {
   "cell_type": "markdown",
   "id": "2b8eb3fe",
   "metadata": {},
   "source": [
    "6. Create a nested dictionary and access it’s elements"
   ]
  },
  {
   "cell_type": "code",
   "execution_count": 38,
   "id": "2717018b",
   "metadata": {},
   "outputs": [
    {
     "name": "stdout",
     "output_type": "stream",
     "text": [
      "95\n",
      "22\n",
      "Anu\n"
     ]
    }
   ],
   "source": [
    "students={'student_1':{\n",
    "        'Name':'John',\n",
    "        'Age':26,\n",
    "        'Course':{\n",
    "            'Math':95,\n",
    "            'CompScience':98,\n",
    "            'English':88}},\n",
    "        'student_2':{\n",
    "            'Name':'Andrea',\n",
    "            'Age':22,\n",
    "            'Course':{\n",
    "                'Math':97,\n",
    "                'CompScience':95,\n",
    "                'English':90}},\n",
    "        'student_3':{\n",
    "            'Name':'Anu',\n",
    "            'Age':25,\n",
    "            'Course':{\n",
    "                'Math':90,\n",
    "                'CompScience':93,\n",
    "                'English':85}}}\n",
    "print(students['student_1']['Course']['Math'])\n",
    "print(students['student_2']['Age'])\n",
    "print(students['student_3']['Name'])"
   ]
  },
  {
   "cell_type": "markdown",
   "id": "f965a648",
   "metadata": {},
   "source": [
    "Functions "
   ]
  },
  {
   "cell_type": "markdown",
   "id": "0a563ea3",
   "metadata": {},
   "source": [
    "1. Write a Python program to find the maximum from the given three numbers."
   ]
  },
  {
   "cell_type": "code",
   "execution_count": 42,
   "id": "dfebd7cf",
   "metadata": {},
   "outputs": [
    {
     "name": "stdout",
     "output_type": "stream",
     "text": [
      "30 is the largest number\n"
     ]
    }
   ],
   "source": [
    "\n",
    "def max_n(x,y,z):\n",
    "    if x>y and x>z:\n",
    "        print(x, \"is the largest number\")\n",
    "    elif y>x and y>z:\n",
    "        print(y, \"is the largest number\")\n",
    "    else:\n",
    "        print(z, \"is the largest number\")\n",
    "max_n(10,20,30)\n"
   ]
  },
  {
   "cell_type": "markdown",
   "id": "38992b92",
   "metadata": {},
   "source": [
    "2. Prime number\n"
   ]
  },
  {
   "cell_type": "code",
   "execution_count": 52,
   "id": "860d4198",
   "metadata": {},
   "outputs": [
    {
     "name": "stdout",
     "output_type": "stream",
     "text": [
      "7 is a prime number\n"
     ]
    }
   ],
   "source": [
    "def is_prime(n):\n",
    "    if n > 1:\n",
    "        for i in range(2, n):\n",
    "            if n % i == 0:\n",
    "                print(n, \"is not a prime number\")\n",
    "                break\n",
    "        else:\n",
    "            print(n, \"is a prime number\")\n",
    "    else:\n",
    "        print(n, \"is not a prime number\")\n",
    "\n",
    "is_prime(7)\n"
   ]
  },
  {
   "cell_type": "markdown",
   "id": "f8e74803",
   "metadata": {},
   "source": [
    "3. Factorial\n"
   ]
  },
  {
   "cell_type": "code",
   "execution_count": 51,
   "id": "4c195e36",
   "metadata": {},
   "outputs": [
    {
     "name": "stdout",
     "output_type": "stream",
     "text": [
      "The factorial of 7 is 5040\n"
     ]
    }
   ],
   "source": [
    "def fact(n):\n",
    "    fact = 1\n",
    "    for i in range(1, n + 1):\n",
    "        fact *= i\n",
    "    print(\"The factorial of\", n, \"is\", fact)\n",
    "\n",
    "fact(7)\n"
   ]
  },
  {
   "cell_type": "markdown",
   "id": "b7fcd9f2",
   "metadata": {},
   "source": [
    "4. Fibonacci\n"
   ]
  },
  {
   "cell_type": "code",
   "execution_count": 50,
   "id": "8f101bc3",
   "metadata": {},
   "outputs": [
    {
     "name": "stdout",
     "output_type": "stream",
     "text": [
      "[0, 1, 1, 2, 3, 5, 8, 13]\n"
     ]
    }
   ],
   "source": [
    "def fibonacci(n):\n",
    "    a=0\n",
    "    b=1\n",
    "    list1 = []\n",
    "\n",
    "    for i in range(n):\n",
    "        list1.append(a)\n",
    "        c=a+b\n",
    "        a=b\n",
    "        b=c\n",
    "    print(list1)\n",
    "\n",
    "fibonacci(8)\n"
   ]
  },
  {
   "cell_type": "markdown",
   "id": "ac43c211",
   "metadata": {},
   "source": [
    "5. Write a Python program to calculate the sum of all the numbers present in a list.\n"
   ]
  },
  {
   "cell_type": "code",
   "execution_count": null,
   "id": "f912fcfc",
   "metadata": {},
   "outputs": [
    {
     "name": "stdout",
     "output_type": "stream",
     "text": [
      "sum of the list = 15\n"
     ]
    }
   ],
   "source": [
    "def sum_list(list):\n",
    "    sum = 0\n",
    "    for i in list:\n",
    "        sum += i\n",
    "    print(\"sum of the list =\",sum)\n",
    "\n",
    "sum_list([1, 2, 3, 4, 5])\n"
   ]
  },
  {
   "cell_type": "markdown",
   "id": "04b67934",
   "metadata": {},
   "source": [
    "6. Write a Python program to calculate the multiplication of all the numbers present in a list.\n"
   ]
  },
  {
   "cell_type": "code",
   "execution_count": 49,
   "id": "8cfbf080",
   "metadata": {},
   "outputs": [
    {
     "name": "stdout",
     "output_type": "stream",
     "text": [
      "multiplication of the list = 120\n"
     ]
    }
   ],
   "source": [
    "def mult_list(list):\n",
    "    mul = 1\n",
    "    for i in list:\n",
    "        mul *= i\n",
    "    print(\"multiplication of the list =\",mul)\n",
    "\n",
    "mult_list([1, 2, 3, 4, 5])\n"
   ]
  },
  {
   "cell_type": "markdown",
   "id": "0e0d2b41",
   "metadata": {},
   "source": [
    "7. Write a Python program that takes a string as an input and calculates the number of upper case and lower case letters present in the string.\n"
   ]
  },
  {
   "cell_type": "code",
   "execution_count": 55,
   "id": "4e5b2c99",
   "metadata": {},
   "outputs": [
    {
     "name": "stdout",
     "output_type": "stream",
     "text": [
      "Entered string is: AndreaRose\n",
      "Number of uppercase letters = 2\n",
      "Number of lowercase letters = 8\n"
     ]
    }
   ],
   "source": [
    "string = input(\"Enter a string: \")\n",
    "n,m=0,0\n",
    "print(\"Entered string is:\",string)\n",
    "for i in string:\n",
    "    if i==i.upper():\n",
    "        n+=1\n",
    "for j in string:\n",
    "    if j==j.lower():\n",
    "        m+=1\n",
    "\n",
    "print(\"Number of uppercase letters =\",n)\n",
    "print(\"Number of lowercase letters =\",m)\n"
   ]
  },
  {
   "cell_type": "markdown",
   "id": "3112b709",
   "metadata": {},
   "source": [
    "8. Function to Find Maximum of 3 Numbers\n"
   ]
  },
  {
   "cell_type": "code",
   "execution_count": 56,
   "id": "388583a5",
   "metadata": {},
   "outputs": [
    {
     "name": "stdout",
     "output_type": "stream",
     "text": [
      "c is the maximum number 4\n"
     ]
    }
   ],
   "source": [
    "def max_num(a, b, c):\n",
    "    if a >= b and a >= c:\n",
    "        print(\"a is the maximum number\",a)\n",
    "    elif b >= a and b >= c:\n",
    "        print(\"b is the maximum number\",b)\n",
    "    else:\n",
    "        print(\"c is the maximum number\",c)\n",
    "\n",
    "a=int(input(\"Enter first number: \"))\n",
    "b=int(input(\"Enter second number: \"))\n",
    "c=int(input(\"Enter third number: \"))\n",
    "\n",
    "max_num(a, b, c)\n"
   ]
  },
  {
   "cell_type": "markdown",
   "id": "062b1f51",
   "metadata": {},
   "source": [
    "9. Function to Check if a String is a Palindrome\n",
    "\n"
   ]
  },
  {
   "cell_type": "code",
   "execution_count": 57,
   "id": "7098ce2b",
   "metadata": {},
   "outputs": [
    {
     "name": "stdout",
     "output_type": "stream",
     "text": [
      "the entered string is: amma\n",
      "Palindrome\n"
     ]
    }
   ],
   "source": [
    "def is_palindrome(s):\n",
    "    if s == s[::-1]:\n",
    "        print(\"Palindrome\")\n",
    "    else:\n",
    "        print(\"Not a palindrome\")\n",
    "\n",
    "s = input(\"Enter a string: \")\n",
    "print(\"the entered string is:\",s)\n",
    "is_palindrome(s)\n"
   ]
  },
  {
   "cell_type": "markdown",
   "id": "87d28e33",
   "metadata": {},
   "source": [
    "10. Write a function to print all factors of a number."
   ]
  },
  {
   "cell_type": "code",
   "execution_count": null,
   "id": "34cf01f6",
   "metadata": {},
   "outputs": [
    {
     "name": "stdout",
     "output_type": "stream",
     "text": [
      "1 2 4 5 10 20 "
     ]
    }
   ],
   "source": [
    "def factors(n):\n",
    "     for i in range(1, n + 1):\n",
    "         if n % i == 0:\n",
    "             print(i, end=\" \")\n",
    "\n",
    "factors(20)\n"
   ]
  },
  {
   "cell_type": "code",
   "execution_count": null,
   "id": "fda9514d",
   "metadata": {},
   "outputs": [],
   "source": []
  }
 ],
 "metadata": {
  "kernelspec": {
   "display_name": "Python 3",
   "language": "python",
   "name": "python3"
  },
  "language_info": {
   "codemirror_mode": {
    "name": "ipython",
    "version": 3
   },
   "file_extension": ".py",
   "mimetype": "text/x-python",
   "name": "python",
   "nbconvert_exporter": "python",
   "pygments_lexer": "ipython3",
   "version": "3.11.9"
  }
 },
 "nbformat": 4,
 "nbformat_minor": 5
}
