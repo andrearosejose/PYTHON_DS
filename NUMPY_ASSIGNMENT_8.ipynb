{
 "cells": [
  {
   "cell_type": "markdown",
   "id": "3974fbaa",
   "metadata": {},
   "source": [
    "1. Create 1D,2D,3D array . check it’s shape and dimension.\n"
   ]
  },
  {
   "cell_type": "code",
   "execution_count": 1,
   "id": "665682c8",
   "metadata": {},
   "outputs": [],
   "source": [
    "\n",
    "import numpy as np\n",
    "import pandas as pd"
   ]
  },
  {
   "cell_type": "code",
   "execution_count": 8,
   "id": "85943e9e",
   "metadata": {},
   "outputs": [
    {
     "name": "stdout",
     "output_type": "stream",
     "text": [
      "[1 2 3 4]\n",
      "1\n",
      "(4,)\n"
     ]
    }
   ],
   "source": [
    "a=np.array([1,2,3,4])\n",
    "print(a)\n",
    "print(a.ndim)\n",
    "print(a.shape)"
   ]
  },
  {
   "cell_type": "code",
   "execution_count": 9,
   "id": "9f24aa8a",
   "metadata": {},
   "outputs": [
    {
     "name": "stdout",
     "output_type": "stream",
     "text": [
      "[[1 2 3 4]\n",
      " [5 6 7 8]]\n",
      "2\n",
      "(2, 4)\n"
     ]
    }
   ],
   "source": [
    "b=np.array([[1,2,3,4],[5,6,7,8]]) \n",
    "print(b)\n",
    "print(b.ndim)\n",
    "print(b.shape)"
   ]
  },
  {
   "cell_type": "code",
   "execution_count": 10,
   "id": "45c957cc",
   "metadata": {},
   "outputs": [
    {
     "name": "stdout",
     "output_type": "stream",
     "text": [
      "[[[ 1  2  3  4]\n",
      "  [ 5  6  7  8]]\n",
      "\n",
      " [[ 9 10 11 12]\n",
      "  [13 14 15 16]]\n",
      "\n",
      " [[17 18 19 20]\n",
      "  [21 22 23 24]]]\n",
      "3\n",
      "(3, 2, 4)\n"
     ]
    }
   ],
   "source": [
    "c=np.array([[[1,2,3,4],[5,6,7,8]],\n",
    "            [[9,10,11,12],[13,14,15,16]],\n",
    "            [[17,18,19,20],[21,22,23,24]]])\n",
    "print(c)\n",
    "print(c.ndim)\n",
    "print(c.shape)"
   ]
  },
  {
   "cell_type": "markdown",
   "id": "a98a0d4a",
   "metadata": {},
   "source": [
    "2. Create a NumPy array of numbers from 10 to 50 (inclusive) with a step of 5."
   ]
  },
  {
   "cell_type": "code",
   "execution_count": 13,
   "id": "b84ed632",
   "metadata": {},
   "outputs": [
    {
     "data": {
      "text/plain": [
       "array([10, 15, 20, 25, 30, 35, 40, 45])"
      ]
     },
     "execution_count": 13,
     "metadata": {},
     "output_type": "execute_result"
    }
   ],
   "source": [
    "np.arange(10,50,5)"
   ]
  },
  {
   "cell_type": "markdown",
   "id": "21e3abac",
   "metadata": {},
   "source": [
    "3. Generate a 3×3 matrix of random integers between 1 and 20."
   ]
  },
  {
   "cell_type": "code",
   "execution_count": 14,
   "id": "f720b69f",
   "metadata": {},
   "outputs": [
    {
     "data": {
      "text/plain": [
       "array([[ 8,  3,  8],\n",
       "       [16, 12,  3],\n",
       "       [ 6,  9,  9]], dtype=int32)"
      ]
     },
     "execution_count": 14,
     "metadata": {},
     "output_type": "execute_result"
    }
   ],
   "source": [
    "np.random.randint(1,20,size=(3,3))"
   ]
  },
  {
   "cell_type": "markdown",
   "id": "6246d617",
   "metadata": {},
   "source": [
    "4. From the array:\n",
    "\n",
    "   Extract the second row.\n",
    "\n",
    "   Extract the first column.\n",
    "\n",
    "   Extract the subarray containing rows 1–2 and columns 2–4.\n",
    "   \n",
    "   Replace all even numbers in arr with -1"
   ]
  },
  {
   "cell_type": "code",
   "execution_count": 31,
   "id": "916d7cb3",
   "metadata": {},
   "outputs": [
    {
     "name": "stdout",
     "output_type": "stream",
     "text": [
      "[50 60 70 80]\n",
      "[10 50 90]\n",
      "[[20 30 40]\n",
      " [60 70 80]]\n",
      "[[-1 -1 -1 -1]\n",
      " [-1 -1 -1 -1]\n",
      " [-1 -1 -1 -1]]\n"
     ]
    }
   ],
   "source": [
    "arr = np.array([[10, 20, 30, 40],\n",
    "                [50, 60, 70, 80],\n",
    "                [90, 100, 110, 120]])\n",
    "\n",
    "print(arr[1])         \n",
    "print(arr[:, 0])      \n",
    "print(arr[0:2, 1:4]) \n",
    "even_ = arr % 2 == 0\n",
    "arr[even_] = -1\n",
    "print(arr) "
   ]
  },
  {
   "cell_type": "markdown",
   "id": "5d24944d",
   "metadata": {},
   "source": [
    "5. Given:\n",
    "  \n",
    "   a = np.array([1, 2, 3])\n",
    "\n",
    "   b = np.array([4, 5, 6])\n",
    "   \n",
    "   Perform element-wise addition, subtraction, multiplication, and division."
   ]
  },
  {
   "cell_type": "code",
   "execution_count": 24,
   "id": "25af5a84",
   "metadata": {},
   "outputs": [
    {
     "name": "stdout",
     "output_type": "stream",
     "text": [
      "Addition: [5 7 9]\n",
      "Subtraction: [-3 -3 -3]\n",
      "Multiplication: [ 4 10 18]\n",
      "Division: [0.25 0.4  0.5 ]\n"
     ]
    }
   ],
   "source": [
    "a=np.array([1,2,3])\n",
    "b=np.array([4,5,6])\n",
    "print(\"Addition:\", np.add(a,b))\n",
    "print(\"Subtraction:\", np.subtract(a,b))\n",
    "print(\"Multiplication:\", np.multiply(a,b))\n",
    "print(\"Division:\", np.divide(a,b))"
   ]
  },
  {
   "cell_type": "markdown",
   "id": "6cf6dbb7",
   "metadata": {},
   "source": [
    "6. Create a 1D array of numbers from 1 to 12. Reshape it into:  3×4 matrix"
   ]
  },
  {
   "cell_type": "code",
   "execution_count": 28,
   "id": "69024a95",
   "metadata": {},
   "outputs": [
    {
     "data": {
      "text/plain": [
       "array([[ 1,  2,  3,  4],\n",
       "       [ 5,  6,  7,  8],\n",
       "       [ 9, 10, 11, 12]])"
      ]
     },
     "execution_count": 28,
     "metadata": {},
     "output_type": "execute_result"
    }
   ],
   "source": [
    "arr=np.array([1,2,3,4,5,6,7,8,9,10,11,12])\n",
    "arr.reshape(3,4)\n"
   ]
  },
  {
   "cell_type": "code",
   "execution_count": null,
   "id": "aa051814",
   "metadata": {},
   "outputs": [],
   "source": []
  }
 ],
 "metadata": {
  "kernelspec": {
   "display_name": "Python 3",
   "language": "python",
   "name": "python3"
  },
  "language_info": {
   "codemirror_mode": {
    "name": "ipython",
    "version": 3
   },
   "file_extension": ".py",
   "mimetype": "text/x-python",
   "name": "python",
   "nbconvert_exporter": "python",
   "pygments_lexer": "ipython3",
   "version": "3.11.9"
  }
 },
 "nbformat": 4,
 "nbformat_minor": 5
}
