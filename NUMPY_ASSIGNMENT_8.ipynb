{
 "cells": [
  {
   "cell_type": "markdown",
   "id": "3974fbaa",
   "metadata": {},
   "source": [
    "Create 1D,2D,3D array . check it’s shape and dimension\n",
    "Create a NumPy array of numbers from 10 to 50 (inclusive) with a step of 5.\n",
    "Generate a 3×3 matrix of random integers between 1 and 20.\n",
    "From the array:\n",
    "Extract the second row.\n",
    "Extract the first column.\n",
    "Extract the subarray containing rows 1–2 and columns 2–4.\n",
    "Replace all even numbers in arr with -1\n",
    "Given:\n",
    "a = np.array([1, 2, 3])\n",
    "b = np.array([4, 5, 6])\n",
    "\n",
    "Perform element-wise addition, subtraction, multiplication, and division.\n",
    "Create a 1D array of numbers from 1 to 12. Reshape it into:  3×4 matrix\n"
   ]
  },
  {
   "cell_type": "code",
   "execution_count": null,
   "id": "665682c8",
   "metadata": {},
   "outputs": [],
   "source": []
  },
  {
   "cell_type": "markdown",
   "id": "a98a0d4a",
   "metadata": {},
   "source": []
  },
  {
   "cell_type": "code",
   "execution_count": null,
   "id": "b84ed632",
   "metadata": {},
   "outputs": [],
   "source": []
  },
  {
   "cell_type": "markdown",
   "id": "21e3abac",
   "metadata": {},
   "source": []
  },
  {
   "cell_type": "code",
   "execution_count": null,
   "id": "f720b69f",
   "metadata": {},
   "outputs": [],
   "source": []
  },
  {
   "cell_type": "markdown",
   "id": "6246d617",
   "metadata": {},
   "source": []
  },
  {
   "cell_type": "code",
   "execution_count": null,
   "id": "916d7cb3",
   "metadata": {},
   "outputs": [],
   "source": []
  },
  {
   "cell_type": "markdown",
   "id": "5d24944d",
   "metadata": {},
   "source": []
  },
  {
   "cell_type": "code",
   "execution_count": null,
   "id": "25af5a84",
   "metadata": {},
   "outputs": [],
   "source": []
  }
 ],
 "metadata": {
  "language_info": {
   "name": "python"
  }
 },
 "nbformat": 4,
 "nbformat_minor": 5
}
